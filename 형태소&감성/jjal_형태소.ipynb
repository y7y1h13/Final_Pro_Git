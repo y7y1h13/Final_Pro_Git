{
  "nbformat": 4,
  "nbformat_minor": 0,
  "metadata": {
    "colab": {
      "name": "jjal 형태소",
      "provenance": [],
      "collapsed_sections": []
    },
    "kernelspec": {
      "name": "python3",
      "display_name": "Python 3"
    },
    "language_info": {
      "name": "python"
    }
  },
  "cells": [
    {
      "cell_type": "code",
      "source": [
        "from PyKomoran import Komoran, DEFAULT_MODEL\n",
        "\n",
        "class Preprocess:\n",
        "    def __init__(self, userdict = '/content/drive/MyDrive/jjal_project/dic/dic.user'):\n",
        "        # 형태소 분석기 초기화\n",
        "        self.Komoran = Komoran(DEFAULT_MODEL['FULL'])\n",
        "        # 사용자 사전 추가\n",
        "        self.Komoran.set_user_dic(userdict)\n",
        "\n",
        "    def get_keyword(self, sentence):\n",
        "        keyword_list = self.Komoran.get_morphes_by_tags(sentence, tag_list=['NNP', 'NNG', 'VV', 'VA'])\n",
        "        return keyword_list"
      ],
      "metadata": {
        "id": "fajs9wXu--ih"
      },
      "execution_count": 3,
      "outputs": []
    },
    {
      "cell_type": "code",
      "source": [
        "komo = Preprocess()\n",
        "komo.get_keyword('애비츄 울다')"
      ],
      "metadata": {
        "colab": {
          "base_uri": "https://localhost:8080/"
        },
        "id": "KhjI-zybEHfw",
        "outputId": "fb4ca0bb-326b-48a6-c869-96e3c31b245b"
      },
      "execution_count": 8,
      "outputs": [
        {
          "output_type": "execute_result",
          "data": {
            "text/plain": [
              "['애비츄', '울']"
            ]
          },
          "metadata": {},
          "execution_count": 8
        }
      ]
    },
    {
      "cell_type": "code",
      "source": [
        "komo.get_keyword('달리는 애비츄 짤')"
      ],
      "metadata": {
        "colab": {
          "base_uri": "https://localhost:8080/"
        },
        "id": "ohW5DvAFESeU",
        "outputId": "e757d73a-3dcb-4ee6-eabb-abba8befe3c4"
      },
      "execution_count": 13,
      "outputs": [
        {
          "output_type": "execute_result",
          "data": {
            "text/plain": [
              "['달리', '애비츄', '짤']"
            ]
          },
          "metadata": {},
          "execution_count": 13
        }
      ]
    },
    {
      "cell_type": "code",
      "source": [
        "komo.get_keyword('애비츄 뛰는 짤')"
      ],
      "metadata": {
        "colab": {
          "base_uri": "https://localhost:8080/"
        },
        "id": "CcroOix_Eud8",
        "outputId": "4edc1a27-fcd6-4f66-ab02-1eb45c1b0dec"
      },
      "execution_count": 7,
      "outputs": [
        {
          "output_type": "execute_result",
          "data": {
            "text/plain": [
              "['애비츄', '뛰', '짤']"
            ]
          },
          "metadata": {},
          "execution_count": 7
        }
      ]
    }
  ]
}