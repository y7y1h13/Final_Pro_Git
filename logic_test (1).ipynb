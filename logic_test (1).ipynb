{
 "cells": [
  {
   "cell_type": "code",
   "execution_count": 1,
   "id": "80614aa6",
   "metadata": {},
   "outputs": [],
   "source": [
    "from logic import *"
   ]
  },
  {
   "cell_type": "code",
   "execution_count": 2,
   "id": "7b5eb000",
   "metadata": {},
   "outputs": [],
   "source": [
    "rank = Rank()"
   ]
  },
  {
   "cell_type": "code",
   "execution_count": 4,
   "id": "64389296",
   "metadata": {},
   "outputs": [
    {
     "name": "stdout",
     "output_type": "stream",
     "text": [
      "최민수 허세부리다\n",
      "https://jjalbang.today/files/jjalbox/2015/04/20150402_551cd9aaacbf2.jpg\n",
      "\n",
      "http://file3.instiz.net/data/file3/2020/03/14/6/f/b/6fbb7943b3ef1f471b16c5fed25772aa.gif\n",
      "\n",
      "https://jjalbang.today/view/%EA%B6%8C%EC%B4%9D/7490\n",
      "\n"
     ]
    }
   ],
   "source": [
    "word = input()\n",
    "\n",
    "pairs = rank.komoran(word)\n",
    "\n",
    "ob_result, ac_result, em_result = rank.split(pairs)\n",
    "\n",
    "ob = rank.ob_counter(ob_result)\n",
    "\n",
    "other = rank.ac_counter(ac_result)\n",
    "\n",
    "# other = rank.em_counter(em_result)\n",
    "\n",
    "first, second = rank.st1(ob)\n",
    "\n",
    "second = rank.st2(other,first, second)\n",
    "\n",
    "first = rank.st3(first,second)\n",
    "\n",
    "rank.result(first)"
   ]
  },
  {
   "cell_type": "code",
   "execution_count": null,
   "id": "fd711b6c",
   "metadata": {},
   "outputs": [],
   "source": []
  }
 ],
 "metadata": {
  "kernelspec": {
   "display_name": "ml",
   "language": "python",
   "name": "ml"
  },
  "language_info": {
   "codemirror_mode": {
    "name": "ipython",
    "version": 3
   },
   "file_extension": ".py",
   "mimetype": "text/x-python",
   "name": "python",
   "nbconvert_exporter": "python",
   "pygments_lexer": "ipython3",
   "version": "3.9.7"
  }
 },
 "nbformat": 4,
 "nbformat_minor": 5
}
