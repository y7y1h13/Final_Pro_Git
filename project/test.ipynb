{
 "cells": [
  {
   "cell_type": "code",
   "execution_count": 1,
   "id": "2fe2e80d",
   "metadata": {},
   "outputs": [],
   "source": [
    "from new_logic import *"
   ]
  },
  {
   "cell_type": "code",
   "execution_count": 2,
   "id": "27f18144",
   "metadata": {},
   "outputs": [],
   "source": [
    "logic = Logic()"
   ]
  },
  {
   "cell_type": "code",
   "execution_count": 4,
   "id": "0ada037c",
   "metadata": {},
   "outputs": [
    {
     "name": "stdout",
     "output_type": "stream",
     "text": [
      "문장 입력: 눈물\n",
      "https://jjalbang.today/files/jjalbox/2017/12/20171209_5a2ad145ebf54.gif\n",
      "\n",
      "https://jjalbang.today/files/jjalbox/2016/08/20160818_57b542341b63f.jpg\n",
      "\n",
      "https://jjalbang.today/files/jjalbox/2016/08/20160818_57b5426a26694.gif\n",
      "\n"
     ]
    }
   ],
   "source": [
    "logic.komoran()\n",
    "\n",
    "logic.dao_split()\n",
    "\n",
    "logic.freq()\n",
    "\n",
    "logic.rank()\n",
    "\n",
    "logic.result()\n",
    "\n"
   ]
  },
  {
   "cell_type": "code",
   "execution_count": null,
   "id": "bc82392c",
   "metadata": {},
   "outputs": [],
   "source": []
  }
 ],
 "metadata": {
  "kernelspec": {
   "display_name": "ml",
   "language": "python",
   "name": "ml"
  },
  "language_info": {
   "codemirror_mode": {
    "name": "ipython",
    "version": 3
   },
   "file_extension": ".py",
   "mimetype": "text/x-python",
   "name": "python",
   "nbconvert_exporter": "python",
   "pygments_lexer": "ipython3",
   "version": "3.9.7"
  }
 },
 "nbformat": 4,
 "nbformat_minor": 5
}
