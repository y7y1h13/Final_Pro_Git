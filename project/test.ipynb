{
 "cells": [
  {
   "cell_type": "code",
   "execution_count": 1,
   "id": "2fe2e80d",
   "metadata": {},
   "outputs": [],
   "source": [
    "from new_logic import *"
   ]
  },
  {
   "cell_type": "code",
   "execution_count": 2,
   "id": "27f18144",
   "metadata": {},
   "outputs": [],
   "source": [
    "logic = Logic()"
   ]
  },
  {
   "cell_type": "code",
   "execution_count": 3,
   "id": "0ada037c",
   "metadata": {},
   "outputs": [
    {
     "name": "stdout",
     "output_type": "stream",
     "text": [
      "문장 입력: 슬픈 개구리\n",
      "https://jjalbang.today/view/%EA%B6%8C%EC%B4%9D/3582\n",
      "\n"
     ]
    }
   ],
   "source": [
    "logic.komoran()\n",
    "\n",
    "logic.dao_split()\n",
    "\n",
    "logic.freq()\n",
    "\n",
    "logic.rank()\n",
    "\n",
    "logic.result()\n",
    "\n"
   ]
  },
  {
   "cell_type": "code",
   "execution_count": null,
   "id": "30f0c188",
   "metadata": {},
   "outputs": [],
   "source": []
  }
 ],
 "metadata": {
  "kernelspec": {
   "display_name": "ml",
   "language": "python",
   "name": "ml"
  },
  "language_info": {
   "codemirror_mode": {
    "name": "ipython",
    "version": 3
   },
   "file_extension": ".py",
   "mimetype": "text/x-python",
   "name": "python",
   "nbconvert_exporter": "python",
   "pygments_lexer": "ipython3",
   "version": "3.9.7"
  }
 },
 "nbformat": 4,
 "nbformat_minor": 5
}
