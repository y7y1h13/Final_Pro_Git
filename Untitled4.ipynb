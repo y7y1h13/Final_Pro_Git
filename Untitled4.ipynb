{
 "cells": [
  {
   "cell_type": "code",
   "execution_count": 1,
   "id": "72e67a51",
   "metadata": {},
   "outputs": [],
   "source": [
    "from DAO import *\n",
    "from komoran import *\n",
    "from collections import defaultdict, Counter"
   ]
  },
  {
   "cell_type": "code",
   "execution_count": 2,
   "id": "9e32516c",
   "metadata": {},
   "outputs": [],
   "source": [
    "komo = Preprocess()"
   ]
  },
  {
   "cell_type": "code",
   "execution_count": 3,
   "id": "d9aeafcd",
   "metadata": {},
   "outputs": [],
   "source": [
    "pairs = komo.get_keyword('최민수 허세부리다')"
   ]
  },
  {
   "cell_type": "code",
   "execution_count": 4,
   "id": "d744b558",
   "metadata": {},
   "outputs": [],
   "source": [
    "ob_result = ''\n",
    "ac_result = ''\n",
    "em_result = ''\n",
    "\n",
    "dao = JjalDao()\n",
    "\n",
    "for i in pairs:\n",
    "    if (i.get_second() == 'NNP') or (i.get_second() == 'NNG'):\n",
    "        ob_result += dao.sel_object(i.get_first())\n",
    "\n",
    "    elif i.get_second() == 'VV':\n",
    "        ac_result += dao.sel_action(i.get_first())\n",
    "    \n",
    "    elif i.get_second() == 'VA':\n",
    "        em_result += dao.sel_emotion(i.get_first())\n",
    "ob_result = ob_result.replace('][',',').replace('[','').replace(']','').replace(' ','').split(',')\n",
    "ac_result = ac_result.replace('][',',').replace('[','').replace(']','').replace(' ','').split(',')\n",
    "em_result = em_result.replace('][',',').replace('[','').replace(']','').replace(' ','').split(',')\n"
   ]
  },
  {
   "cell_type": "code",
   "execution_count": 5,
   "id": "43fe59f4",
   "metadata": {},
   "outputs": [],
   "source": [
    "if ob_result[0] != '':\n",
    "    counter = Counter(ob_result)\n",
    "    ob = counter.most_common()"
   ]
  },
  {
   "cell_type": "code",
   "execution_count": 28,
   "id": "b3fb67a8",
   "metadata": {},
   "outputs": [
    {
     "data": {
      "text/plain": [
       "list"
      ]
     },
     "execution_count": 28,
     "metadata": {},
     "output_type": "execute_result"
    }
   ],
   "source": [
    "type(ob)"
   ]
  },
  {
   "cell_type": "code",
   "execution_count": 6,
   "id": "a07aec08",
   "metadata": {},
   "outputs": [],
   "source": [
    "# dic = defaultdict(int)\n",
    "# if em_result[0] != '':\n",
    "#     for i in em_result:\n",
    "#         dic[i] += 1\n",
    "\n",
    "if em_result[0] != '':\n",
    "    counter = Counter(em_result)\n",
    "    other = counter.most_common()"
   ]
  },
  {
   "cell_type": "code",
   "execution_count": 7,
   "id": "98dfbb62",
   "metadata": {},
   "outputs": [],
   "source": [
    "if ac_result[0] != '':\n",
    "    counter = Counter(ac_result)\n",
    "    other = counter.most_common()"
   ]
  },
  {
   "cell_type": "code",
   "execution_count": 29,
   "id": "0922d5bd",
   "metadata": {},
   "outputs": [
    {
     "data": {
      "text/plain": [
       "[('3', 1), ('19', 1)]"
      ]
     },
     "execution_count": 29,
     "metadata": {},
     "output_type": "execute_result"
    }
   ],
   "source": [
    "other"
   ]
  },
  {
   "cell_type": "code",
   "execution_count": 8,
   "id": "7a0be65d",
   "metadata": {},
   "outputs": [],
   "source": [
    "# f_dic = dict(sorted(ob_dic.items(), key=lambda x: x[1], reverse=True))"
   ]
  },
  {
   "cell_type": "code",
   "execution_count": 9,
   "id": "729a7a0e",
   "metadata": {},
   "outputs": [],
   "source": [
    "# s_dic = dict(sorted(dic.items(), key=lambda x: x[1], reverse=True))"
   ]
  },
  {
   "cell_type": "code",
   "execution_count": 10,
   "id": "1592c6b7",
   "metadata": {},
   "outputs": [],
   "source": [
    "# f = []\n",
    "\n",
    "# for k,v in f_dic.items():\n",
    "#     if v != 1:\n",
    "#         f.append(k)"
   ]
  },
  {
   "cell_type": "code",
   "execution_count": 25,
   "id": "3dd20a84",
   "metadata": {},
   "outputs": [
    {
     "data": {
      "text/plain": [
       "['3']"
      ]
     },
     "execution_count": 25,
     "metadata": {},
     "output_type": "execute_result"
    }
   ],
   "source": [
    "first = []\n",
    "second = []\n",
    "\n",
    "# 1. 기본적인 우선순위(개체가 3개 미만)\n",
    "for k,v in ob:\n",
    "    if v !=1:\n",
    "        first.append(k)\n",
    "    else :\n",
    "        second.append(k)\n",
    "first"
   ]
  },
  {
   "cell_type": "code",
   "execution_count": 207,
   "id": "5e3e5281",
   "metadata": {},
   "outputs": [
    {
     "data": {
      "text/plain": [
       "['1', '2', '4', '5', '6', '7', '8', '9', '19']"
      ]
     },
     "execution_count": 207,
     "metadata": {},
     "output_type": "execute_result"
    }
   ],
   "source": [
    "for k,v in other:\n",
    "    if k not in first:\n",
    "        second.append(k)\n",
    "    \n",
    "second"
   ]
  },
  {
   "cell_type": "code",
   "execution_count": 26,
   "id": "7ae2ba4d",
   "metadata": {},
   "outputs": [
    {
     "data": {
      "text/plain": [
       "['3', '1', '2']"
      ]
     },
     "execution_count": 26,
     "metadata": {},
     "output_type": "execute_result"
    }
   ],
   "source": [
    "\n",
    "import random\n",
    "test1 = []\n",
    "test2 = []\n",
    "\n",
    "if len(first) == 1:\n",
    "    counter = Counter(second)\n",
    "    test = counter.most_common()\n",
    "    for k,v in test:\n",
    "        if v != 1:\n",
    "            test1.append(k)\n",
    "        else:\n",
    "            test2.append(k)\n",
    "    \n",
    "    # 여기서 또 나눠야함....;;\n",
    "    \n",
    "    if len(test1) == 1:\n",
    "        pass\n",
    "        \n",
    "    elif len(test1) == 2:\n",
    "        pass\n",
    "    \n",
    "    elif len(test1) > 2:\n",
    "        pass\n",
    "    \n",
    "    \n",
    "    #일단은 결과 보는게 중요하기 때문에 나중에 하고 대충 해보겠음\n",
    "    \n",
    "    \n",
    "    #random으로 숫자 뽑기\n",
    "#     a = random.sample(range(0,len(test2)),2)\n",
    "#     first.append(a)\n",
    "    while len(first) < 3:\n",
    "        a = str(random.randint(1,(len(test2)+1)))\n",
    "        if a not in first:\n",
    "            first.append(a)\n",
    "        \n",
    "    \n",
    "    \n",
    "    \n",
    "elif len(first) == 2:\n",
    "    pass\n",
    "    \n",
    "elif len(first) == 3:\n",
    "    pass\n",
    "    \n",
    "elif len(first) > 3:\n",
    "    pass\n",
    "    \n",
    "    \n",
    "first"
   ]
  },
  {
   "cell_type": "code",
   "execution_count": 211,
   "id": "41c75c30",
   "metadata": {},
   "outputs": [
    {
     "data": {
      "text/plain": [
       "1"
      ]
     },
     "execution_count": 211,
     "metadata": {},
     "output_type": "execute_result"
    }
   ],
   "source": [
    "counter = Counter(second)\n",
    "t = counter.most_common()\n",
    "t[0][1]"
   ]
  },
  {
   "cell_type": "code",
   "execution_count": 27,
   "id": "fdf52765",
   "metadata": {},
   "outputs": [
    {
     "name": "stdout",
     "output_type": "stream",
     "text": [
      "https://jjalbang.today/files/jjalbox/2015/04/20150402_551cd9aaacbf2.jpg\n",
      "\n",
      "https://jjalbang.today/files/jjalbox/2015/03/85_55169c8522e98_1104.jpg\n",
      "\n",
      "https://jjalbang.today/files/jjalbox/2015/03/90_55169be836487_2752.jpg\n",
      "\n"
     ]
    }
   ],
   "source": [
    "for i in first:\n",
    "    print(dao.sel_main(i))"
   ]
  },
  {
   "cell_type": "code",
   "execution_count": null,
   "id": "99c309af",
   "metadata": {},
   "outputs": [],
   "source": []
  }
 ],
 "metadata": {
  "kernelspec": {
   "display_name": "ml",
   "language": "python",
   "name": "ml"
  },
  "language_info": {
   "codemirror_mode": {
    "name": "ipython",
    "version": 3
   },
   "file_extension": ".py",
   "mimetype": "text/x-python",
   "name": "python",
   "nbconvert_exporter": "python",
   "pygments_lexer": "ipython3",
   "version": "3.9.7"
  }
 },
 "nbformat": 4,
 "nbformat_minor": 5
}
