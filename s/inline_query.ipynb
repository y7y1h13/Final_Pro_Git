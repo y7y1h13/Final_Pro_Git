{
 "cells": [
  {
   "cell_type": "markdown",
   "id": "0be9aac9",
   "metadata": {},
   "source": [
    "# Module_import"
   ]
  },
  {
   "cell_type": "code",
   "execution_count": 1,
   "id": "2ceee659",
   "metadata": {},
   "outputs": [
    {
     "name": "stdout",
     "output_type": "stream",
     "text": [
      "using cached model. /home/bigdata/work/SUNIL/.cache/kobert_v1.zip\n",
      "using cached model. /home/bigdata/work/SUNIL/.cache/kobert_news_wiki_ko_cased-1087f8699e.spiece\n",
      "using cached model. /home/bigdata/work/SUNIL/.cache/kobert_news_wiki_ko_cased-1087f8699e.spiece\n"
     ]
    },
    {
     "name": "stderr",
     "output_type": "stream",
     "text": [
      "/home/bigdata/anaconda3/envs/ml/lib/python3.7/site-packages/sklearn/base.py:338: UserWarning: Trying to unpickle estimator LabelEncoder from version 1.0.1 when using version 1.0.2. This might lead to breaking code or invalid results. Use at your own risk. For more info please refer to:\n",
      "https://scikit-learn.org/stable/modules/model_persistence.html#security-maintainability-limitations\n",
      "  UserWarning,\n"
     ]
    }
   ],
   "source": [
    "from DAO import *\n",
    "import dict_logic\n",
    "import Kobert_class\n",
    "import logging\n",
    "from uuid import uuid4\n",
    "from telegram import InlineQueryResultArticle, ParseMode, InputTextMessageContent, Update, InlineQueryResultPhoto, InlineQueryResultGif\n",
    "from telegram.ext import Updater, InlineQueryHandler, CommandHandler, CallbackContext\n",
    "from telegram.utils.helpers import escape_markdown"
   ]
  },
  {
   "cell_type": "markdown",
   "id": "ca3a65cf",
   "metadata": {},
   "source": [
    "# Load_logic"
   ]
  },
  {
   "cell_type": "code",
   "execution_count": 2,
   "id": "1aafe646",
   "metadata": {
    "scrolled": true
   },
   "outputs": [],
   "source": [
    "logic = dict_logic.Logic()\n",
    "dao = JjalDao()\n",
    "def sentence_to_url(x):\n",
    "    logic.komoran(x)\n",
    "    logic.dao_split()\n",
    "    address = logic.result()\n",
    "    urls_tmp = []\n",
    "    for i in address:\n",
    "        urls_tmp.append(dao.sel_main(i).replace('\\n', ''))\n",
    "#     urls = []\n",
    "#     for i in address:\n",
    "#         urls.append(f'http://118.36.193.8:3888/view/{i}.jpg')\n",
    "    return urls_tmp"
   ]
  },
  {
   "cell_type": "markdown",
   "id": "a2ce9d50",
   "metadata": {},
   "source": [
    "# Logic_experiment"
   ]
  },
  {
   "cell_type": "code",
   "execution_count": 3,
   "id": "742b8649",
   "metadata": {},
   "outputs": [
    {
     "name": "stdout",
     "output_type": "stream",
     "text": [
      "ac_re\n",
      "None\n",
      "ob_re\n",
      "None\n",
      "['/Img/09.JPG', '/Img/14.JPG', '/Img/15.JPG']\n",
      "time : 0.23573875427246094\n"
     ]
    }
   ],
   "source": [
    "import time\n",
    "start = time.time()  # 시작 시간 저장\n",
    "\n",
    "user_text = '나 면접 떨어졌어'\n",
    "urls = sentence_to_url(user_text)\n",
    "print(urls)\n",
    "print(\"time :\", time.time() - start) "
   ]
  },
  {
   "cell_type": "markdown",
   "id": "9227372c",
   "metadata": {},
   "source": [
    "# InlineBOT"
   ]
  },
  {
   "cell_type": "code",
   "execution_count": null,
   "id": "79769c9e",
   "metadata": {
    "scrolled": false
   },
   "outputs": [
    {
     "name": "stdout",
     "output_type": "stream",
     "text": [
      "*****\n"
     ]
    }
   ],
   "source": [
    "logging.basicConfig(\n",
    "    format='%(asctime)s - %(name)s - %(levelname)s - %(message)s', level=logging.INFO)\n",
    "logger = logging.getLogger(__name__)\n",
    "\n",
    "\n",
    "# Define a few command handlers. These usually take the two arguments update and\n",
    "# context. Error handlers also receive the raised TelegramError object in error.\n",
    "def start(update: Update, context: CallbackContext) -> None:\n",
    "    \"\"\"Send a message when the command /start is issued.\"\"\"\n",
    "    update.message.reply_text('Hi!')\n",
    "\n",
    "\n",
    "def help_command(update: Update, context: CallbackContext) -> None:\n",
    "    \"\"\"Send a message when the command /help is issued.\"\"\"\n",
    "    update.message.reply_text('Help!')\n",
    "\n",
    "    \n",
    "# def make_inline(urls):\n",
    "#     for i in range(len(urls)):\n",
    "#         f'inline{i}' = if 'jpg' in urls[i]:\n",
    "#             inline1 = InlineQueryResultPhoto(\n",
    "#                 id=str(uuid4()),\n",
    "#                 type='photo',\n",
    "#                 photo_url= urls[i],\n",
    "#                 thumb_url= urls[i])\n",
    "#         else:\n",
    "#             f'inline{i}' = InlineQueryResultGif(\n",
    "#                 id=str(uuid4()),\n",
    "#                 gif_url = urls[i],\n",
    "#                 thumb_url = urls[i])\n",
    "        \n",
    "#         retrun f'inline{i}'\n",
    "\n",
    "def inlinequery(update: Update, context: CallbackContext) -> None:\n",
    "    \"\"\"Handle the inline query.\"\"\"\n",
    "    query = update.inline_query.query\n",
    "    print(query)\n",
    "#     urls = sentence_to_url(query)\n",
    "\n",
    "    \n",
    "#     if len(urls) == 1:\n",
    "#         if 'jpg' in urls[0]:\n",
    "#             inline1 = InlineQueryResultPhoto(\n",
    "#                 id=str(uuid4()),\n",
    "#                 type='photo',\n",
    "#                 photo_url= urls[0],\n",
    "#                 thumb_url= urls[0])\n",
    "#         else:\n",
    "#             inline1 = InlineQueryResultGif(\n",
    "#                 id=str(uuid4()),\n",
    "#                 gif_url = urls[0],\n",
    "#                 thumb_url = urls[0])\n",
    "#         results = [inline1]\n",
    "#     if len(urls) == 2:\n",
    "#         if 'jpg' in urls[0]:\n",
    "#             inline1 = InlineQueryResultPhoto(\n",
    "#                 id=str(uuid4()),\n",
    "#                 type='photo',\n",
    "#                 photo_url= urls[0],\n",
    "#                 thumb_url= urls[0])\n",
    "#         else:\n",
    "#             inline1 = InlineQueryResultGif(\n",
    "#                 id=str(uuid4()),\n",
    "#                 gif_url = urls[0],\n",
    "#                 thumb_url = urls[0])\n",
    "\n",
    "#         if 'jpg' in urls[1]:\n",
    "#             inline2 = InlineQueryResultPhoto(\n",
    "#                 id=str(uuid4()),\n",
    "#                 type='photo',\n",
    "#                 photo_url= urls[1],\n",
    "#                 thumb_url= urls[1])\n",
    "#         else:\n",
    "#             inline2 = InlineQueryResultGif(\n",
    "#                 id=str(uuid4()),\n",
    "#                 gif_url = urls[1],\n",
    "#                 thumb_url = urls[1])\n",
    "#         results = [inline1, inline2]\n",
    "        \n",
    "#     if len(urls) == 3:\n",
    "#         if 'jpg' in urls[0]:\n",
    "#             inline1 = InlineQueryResultPhoto(\n",
    "#                 id=str(uuid4()),\n",
    "#                 type='photo',\n",
    "#                 photo_url= urls[0],\n",
    "#                 thumb_url= urls[0])\n",
    "#         else:\n",
    "#             inline1 = InlineQueryResultGif(\n",
    "#                 id=str(uuid4()),\n",
    "#                 gif_url = urls[0],\n",
    "#                 thumb_url = urls[0])\n",
    "\n",
    "#         if 'jpg' in urls[1]:\n",
    "#             inline2 = InlineQueryResultPhoto(\n",
    "#                 id=str(uuid4()),\n",
    "#                 type='photo',\n",
    "#                 photo_url= urls[1],\n",
    "#                 thumb_url= urls[1])\n",
    "#         else:\n",
    "#             inline2 = InlineQueryResultGif(\n",
    "#                 id=str(uuid4()),\n",
    "#                 gif_url = urls[1],\n",
    "#                 thumb_url = urls[1])\n",
    "\n",
    "#         if 'jpg' in urls[2]:\n",
    "#             inline3 = InlineQueryResultPhoto(\n",
    "#                 id=str(uuid4()),\n",
    "#                 type='photo',\n",
    "#                 photo_url= urls[2],\n",
    "#                 thumb_url= urls[2])\n",
    "#         else:\n",
    "#             inline3 = InlineQueryResultGif(\n",
    "#                 id=str(uuid4()),\n",
    "#                 gif_url = urls[2],\n",
    "#                 thumb_url = urls[2])\n",
    "#         results = [inline1, inline2, inline3]\n",
    "\n",
    "\n",
    "\n",
    "\n",
    "\n",
    "        \n",
    "\n",
    "        \n",
    "        \n",
    "        \n",
    "        \n",
    "    results = [InlineQueryResultPhoto(\n",
    "            id=str(uuid4()),\n",
    "            type='photo',\n",
    "            photo_url=  'https://118.36.193.8:8443/2.jpg',\n",
    "            thumb_url= 'https://118.36.193.8:8443/2.jpg'\n",
    "       ),\n",
    "        InlineQueryResultPhoto(\n",
    "            id=str(uuid4()),\n",
    "            type='photo',\n",
    "            photo_url='https://jjalbang.today/files/jjalbox/2016/08/20160818_57b542341b63f.jpg',\n",
    "            thumb_url='https://jjalbang.today/files/jjalbox/2016/08/20160818_57b542341b63f.jpg'\n",
    "        ),\n",
    "   ]\n",
    "\n",
    "\n",
    "    update.inline_query.answer(results)\n",
    "\n",
    "\n",
    "def main() -> None:\n",
    "    \"\"\"Run the bot.\"\"\"\n",
    "    # Create the Updater and pass it your bot's token.\n",
    "    updater = Updater(\"5043718132:AAEuy1M92uGFaN3YlXEI8vKu-4ytB305DL8\")\n",
    "\n",
    "    # Get the dispatcher to register handlers\n",
    "    dispatcher = updater.dispatcher\n",
    "\n",
    "    # on different commands - answer in Telegram\n",
    "    dispatcher.add_handler(CommandHandler(\"start\", start))\n",
    "    dispatcher.add_handler(CommandHandler(\"help\", help_command))\n",
    "\n",
    "    # on non command i.e message - echo the message on Telegram\n",
    "    dispatcher.add_handler(InlineQueryHandler(inlinequery))\n",
    "\n",
    "    # Start the Bot\n",
    "    updater.start_polling()\n",
    "\n",
    "    # Block until the user presses Ctrl-C or the process receives SIGINT,\n",
    "    # SIGTERM or SIGABRT. This should be used most of the time, since\n",
    "    # start_polling() is non-blocking and will stop the bot gracefully.\n",
    "    updater.idle()\n",
    "\n",
    "\n",
    "if __name__ == '__main__':\n",
    "    main()"
   ]
  },
  {
   "cell_type": "code",
   "execution_count": null,
   "id": "1c3a073f",
   "metadata": {},
   "outputs": [],
   "source": []
  }
 ],
 "metadata": {
  "kernelspec": {
   "display_name": "ml",
   "language": "python",
   "name": "ml"
  },
  "language_info": {
   "codemirror_mode": {
    "name": "ipython",
    "version": 3
   },
   "file_extension": ".py",
   "mimetype": "text/x-python",
   "name": "python",
   "nbconvert_exporter": "python",
   "pygments_lexer": "ipython3",
   "version": "3.7.11"
  }
 },
 "nbformat": 4,
 "nbformat_minor": 5
}
