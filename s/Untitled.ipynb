{
 "cells": [
  {
   "cell_type": "code",
   "execution_count": 1,
   "id": "ba28a78b",
   "metadata": {},
   "outputs": [],
   "source": [
    "from fastapi import FastAPI, File, UploadFile, APIRouter"
   ]
  },
  {
   "cell_type": "code",
   "execution_count": 2,
   "id": "f1aa6bbd",
   "metadata": {},
   "outputs": [],
   "source": [
    "app = FastAPI()"
   ]
  },
  {
   "cell_type": "code",
   "execution_count": 4,
   "id": "ced17040",
   "metadata": {},
   "outputs": [
    {
     "name": "stdout",
     "output_type": "stream",
     "text": [
      "Help on method post in module fastapi.applications:\n",
      "\n",
      "post(path: str, *, response_model: Union[Type[Any], NoneType] = None, status_code: Union[int, NoneType] = None, tags: Union[List[str], NoneType] = None, dependencies: Union[Sequence[fastapi.params.Depends], NoneType] = None, summary: Union[str, NoneType] = None, description: Union[str, NoneType] = None, response_description: str = 'Successful Response', responses: Union[Dict[Union[int, str], Dict[str, Any]], NoneType] = None, deprecated: Union[bool, NoneType] = None, operation_id: Union[str, NoneType] = None, response_model_include: Union[Set[Union[int, str]], Dict[Union[int, str], Any], NoneType] = None, response_model_exclude: Union[Set[Union[int, str]], Dict[Union[int, str], Any], NoneType] = None, response_model_by_alias: bool = True, response_model_exclude_unset: bool = False, response_model_exclude_defaults: bool = False, response_model_exclude_none: bool = False, include_in_schema: bool = True, response_class: Type[starlette.responses.Response] = <fastapi.datastructures.DefaultPlaceholder object at 0x7f69e7f7bdd0>, name: Union[str, NoneType] = None, callbacks: Union[List[starlette.routing.BaseRoute], NoneType] = None, openapi_extra: Union[Dict[str, Any], NoneType] = None) -> Callable[[~DecoratedCallable], ~DecoratedCallable] method of fastapi.applications.FastAPI instance\n",
      "\n"
     ]
    }
   ],
   "source": [
    "help(app.post)"
   ]
  },
  {
   "cell_type": "code",
   "execution_count": null,
   "id": "0f1a0ebc",
   "metadata": {},
   "outputs": [],
   "source": []
  }
 ],
 "metadata": {
  "kernelspec": {
   "display_name": "ml",
   "language": "python",
   "name": "ml"
  },
  "language_info": {
   "codemirror_mode": {
    "name": "ipython",
    "version": 3
   },
   "file_extension": ".py",
   "mimetype": "text/x-python",
   "name": "python",
   "nbconvert_exporter": "python",
   "pygments_lexer": "ipython3",
   "version": "3.7.11"
  }
 },
 "nbformat": 4,
 "nbformat_minor": 5
}
